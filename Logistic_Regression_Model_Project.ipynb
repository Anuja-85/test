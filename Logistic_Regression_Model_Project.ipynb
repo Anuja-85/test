{
 "cells": [
  {
   "cell_type": "code",
   "execution_count": 2,
   "id": "62f656c4",
   "metadata": {},
   "outputs": [],
   "source": [
    "import pandas as pd\n",
    "import numpy as np\n",
    "\n",
    "from sklearn.model_selection import train_test_split\n",
    "from sklearn.linear_model import LogisticRegression\n",
    "from sklearn.metrics import confusion_matrix,accuracy_score"
   ]
  },
  {
   "cell_type": "code",
   "execution_count": 3,
   "id": "1bb668ac",
   "metadata": {},
   "outputs": [],
   "source": [
    "df = pd.read_csv('gender_classification.csv')"
   ]
  },
  {
   "cell_type": "code",
   "execution_count": null,
   "id": "5b80da11",
   "metadata": {},
   "outputs": [],
   "source": []
  },
  {
   "cell_type": "markdown",
   "id": "a3cae1ca",
   "metadata": {},
   "source": [
    "### Step 1:Problem Statement"
   ]
  },
  {
   "cell_type": "code",
   "execution_count": null,
   "id": "973b5cd0",
   "metadata": {},
   "outputs": [],
   "source": [
    "Predict the gender based on various features of person.\n",
    "\n",
    "Target Feature >> gender[Male/Female]\n",
    "   Binary Classification"
   ]
  },
  {
   "cell_type": "markdown",
   "id": "311ac9aa",
   "metadata": {},
   "source": [
    "### Step 2: Data Gathering"
   ]
  },
  {
   "cell_type": "code",
   "execution_count": 5,
   "id": "1e520c7b",
   "metadata": {},
   "outputs": [
    {
     "data": {
      "text/html": [
       "<div>\n",
       "<style scoped>\n",
       "    .dataframe tbody tr th:only-of-type {\n",
       "        vertical-align: middle;\n",
       "    }\n",
       "\n",
       "    .dataframe tbody tr th {\n",
       "        vertical-align: top;\n",
       "    }\n",
       "\n",
       "    .dataframe thead th {\n",
       "        text-align: right;\n",
       "    }\n",
       "</style>\n",
       "<table border=\"1\" class=\"dataframe\">\n",
       "  <thead>\n",
       "    <tr style=\"text-align: right;\">\n",
       "      <th></th>\n",
       "      <th>long_hair</th>\n",
       "      <th>forehead_width_cm</th>\n",
       "      <th>forehead_height_cm</th>\n",
       "      <th>nose_wide</th>\n",
       "      <th>nose_long</th>\n",
       "      <th>lips_thin</th>\n",
       "      <th>distance_nose_to_lip_long</th>\n",
       "      <th>gender</th>\n",
       "    </tr>\n",
       "  </thead>\n",
       "  <tbody>\n",
       "    <tr>\n",
       "      <th>0</th>\n",
       "      <td>1</td>\n",
       "      <td>11.8</td>\n",
       "      <td>6.1</td>\n",
       "      <td>1</td>\n",
       "      <td>0</td>\n",
       "      <td>1</td>\n",
       "      <td>1</td>\n",
       "      <td>Male</td>\n",
       "    </tr>\n",
       "    <tr>\n",
       "      <th>1</th>\n",
       "      <td>0</td>\n",
       "      <td>14.0</td>\n",
       "      <td>5.4</td>\n",
       "      <td>0</td>\n",
       "      <td>0</td>\n",
       "      <td>1</td>\n",
       "      <td>0</td>\n",
       "      <td>Female</td>\n",
       "    </tr>\n",
       "    <tr>\n",
       "      <th>2</th>\n",
       "      <td>0</td>\n",
       "      <td>11.8</td>\n",
       "      <td>6.3</td>\n",
       "      <td>1</td>\n",
       "      <td>1</td>\n",
       "      <td>1</td>\n",
       "      <td>1</td>\n",
       "      <td>Male</td>\n",
       "    </tr>\n",
       "    <tr>\n",
       "      <th>3</th>\n",
       "      <td>0</td>\n",
       "      <td>14.4</td>\n",
       "      <td>6.1</td>\n",
       "      <td>0</td>\n",
       "      <td>1</td>\n",
       "      <td>1</td>\n",
       "      <td>1</td>\n",
       "      <td>Male</td>\n",
       "    </tr>\n",
       "    <tr>\n",
       "      <th>4</th>\n",
       "      <td>1</td>\n",
       "      <td>13.5</td>\n",
       "      <td>5.9</td>\n",
       "      <td>0</td>\n",
       "      <td>0</td>\n",
       "      <td>0</td>\n",
       "      <td>0</td>\n",
       "      <td>Female</td>\n",
       "    </tr>\n",
       "    <tr>\n",
       "      <th>...</th>\n",
       "      <td>...</td>\n",
       "      <td>...</td>\n",
       "      <td>...</td>\n",
       "      <td>...</td>\n",
       "      <td>...</td>\n",
       "      <td>...</td>\n",
       "      <td>...</td>\n",
       "      <td>...</td>\n",
       "    </tr>\n",
       "    <tr>\n",
       "      <th>4996</th>\n",
       "      <td>1</td>\n",
       "      <td>13.6</td>\n",
       "      <td>5.1</td>\n",
       "      <td>0</td>\n",
       "      <td>0</td>\n",
       "      <td>0</td>\n",
       "      <td>0</td>\n",
       "      <td>Female</td>\n",
       "    </tr>\n",
       "    <tr>\n",
       "      <th>4997</th>\n",
       "      <td>1</td>\n",
       "      <td>11.9</td>\n",
       "      <td>5.4</td>\n",
       "      <td>0</td>\n",
       "      <td>0</td>\n",
       "      <td>0</td>\n",
       "      <td>0</td>\n",
       "      <td>Female</td>\n",
       "    </tr>\n",
       "    <tr>\n",
       "      <th>4998</th>\n",
       "      <td>1</td>\n",
       "      <td>12.9</td>\n",
       "      <td>5.7</td>\n",
       "      <td>0</td>\n",
       "      <td>0</td>\n",
       "      <td>0</td>\n",
       "      <td>0</td>\n",
       "      <td>Female</td>\n",
       "    </tr>\n",
       "    <tr>\n",
       "      <th>4999</th>\n",
       "      <td>1</td>\n",
       "      <td>13.2</td>\n",
       "      <td>6.2</td>\n",
       "      <td>0</td>\n",
       "      <td>0</td>\n",
       "      <td>0</td>\n",
       "      <td>0</td>\n",
       "      <td>Female</td>\n",
       "    </tr>\n",
       "    <tr>\n",
       "      <th>5000</th>\n",
       "      <td>1</td>\n",
       "      <td>15.4</td>\n",
       "      <td>5.4</td>\n",
       "      <td>1</td>\n",
       "      <td>1</td>\n",
       "      <td>1</td>\n",
       "      <td>1</td>\n",
       "      <td>Male</td>\n",
       "    </tr>\n",
       "  </tbody>\n",
       "</table>\n",
       "<p>5001 rows × 8 columns</p>\n",
       "</div>"
      ],
      "text/plain": [
       "      long_hair  forehead_width_cm  forehead_height_cm  nose_wide  nose_long  \\\n",
       "0             1               11.8                 6.1          1          0   \n",
       "1             0               14.0                 5.4          0          0   \n",
       "2             0               11.8                 6.3          1          1   \n",
       "3             0               14.4                 6.1          0          1   \n",
       "4             1               13.5                 5.9          0          0   \n",
       "...         ...                ...                 ...        ...        ...   \n",
       "4996          1               13.6                 5.1          0          0   \n",
       "4997          1               11.9                 5.4          0          0   \n",
       "4998          1               12.9                 5.7          0          0   \n",
       "4999          1               13.2                 6.2          0          0   \n",
       "5000          1               15.4                 5.4          1          1   \n",
       "\n",
       "      lips_thin  distance_nose_to_lip_long  gender  \n",
       "0             1                          1    Male  \n",
       "1             1                          0  Female  \n",
       "2             1                          1    Male  \n",
       "3             1                          1    Male  \n",
       "4             0                          0  Female  \n",
       "...         ...                        ...     ...  \n",
       "4996          0                          0  Female  \n",
       "4997          0                          0  Female  \n",
       "4998          0                          0  Female  \n",
       "4999          0                          0  Female  \n",
       "5000          1                          1    Male  \n",
       "\n",
       "[5001 rows x 8 columns]"
      ]
     },
     "execution_count": 5,
     "metadata": {},
     "output_type": "execute_result"
    }
   ],
   "source": [
    "df"
   ]
  },
  {
   "cell_type": "markdown",
   "id": "40a587aa",
   "metadata": {},
   "source": [
    "### Step 3:EDA"
   ]
  },
  {
   "cell_type": "code",
   "execution_count": null,
   "id": "753376d1",
   "metadata": {},
   "outputs": [],
   "source": [
    "check data destribution\n",
    "Outliers\n",
    "Missing Values if any\n",
    "Assumptions\n",
    "Data Types\n",
    "\n",
    "All data should be in numeric form\n",
    "Data should not contain any null values"
   ]
  },
  {
   "cell_type": "code",
   "execution_count": 6,
   "id": "3e085f6a",
   "metadata": {},
   "outputs": [
    {
     "name": "stdout",
     "output_type": "stream",
     "text": [
      "<class 'pandas.core.frame.DataFrame'>\n",
      "RangeIndex: 5001 entries, 0 to 5000\n",
      "Data columns (total 8 columns):\n",
      " #   Column                     Non-Null Count  Dtype  \n",
      "---  ------                     --------------  -----  \n",
      " 0   long_hair                  5001 non-null   int64  \n",
      " 1   forehead_width_cm          5001 non-null   float64\n",
      " 2   forehead_height_cm         5001 non-null   float64\n",
      " 3   nose_wide                  5001 non-null   int64  \n",
      " 4   nose_long                  5001 non-null   int64  \n",
      " 5   lips_thin                  5001 non-null   int64  \n",
      " 6   distance_nose_to_lip_long  5001 non-null   int64  \n",
      " 7   gender                     5001 non-null   object \n",
      "dtypes: float64(2), int64(5), object(1)\n",
      "memory usage: 312.7+ KB\n"
     ]
    }
   ],
   "source": [
    "df.info()"
   ]
  },
  {
   "cell_type": "code",
   "execution_count": 7,
   "id": "c2f25013",
   "metadata": {},
   "outputs": [
    {
     "data": {
      "text/plain": [
       "long_hair                    0\n",
       "forehead_width_cm            0\n",
       "forehead_height_cm           0\n",
       "nose_wide                    0\n",
       "nose_long                    0\n",
       "lips_thin                    0\n",
       "distance_nose_to_lip_long    0\n",
       "gender                       0\n",
       "dtype: int64"
      ]
     },
     "execution_count": 7,
     "metadata": {},
     "output_type": "execute_result"
    }
   ],
   "source": [
    "df.isna().sum()"
   ]
  },
  {
   "cell_type": "code",
   "execution_count": 8,
   "id": "f7738697",
   "metadata": {},
   "outputs": [
    {
     "data": {
      "text/plain": [
       "Female    2501\n",
       "Male      2500\n",
       "Name: gender, dtype: int64"
      ]
     },
     "execution_count": 8,
     "metadata": {},
     "output_type": "execute_result"
    }
   ],
   "source": [
    "df.gender.value_counts()"
   ]
  },
  {
   "cell_type": "code",
   "execution_count": 9,
   "id": "46723c48",
   "metadata": {},
   "outputs": [
    {
     "data": {
      "text/plain": [
       "Female    50.009998\n",
       "Male      49.990002\n",
       "Name: gender, dtype: float64"
      ]
     },
     "execution_count": 9,
     "metadata": {},
     "output_type": "execute_result"
    }
   ],
   "source": [
    "df.gender.value_counts()/len(df)*100"
   ]
  },
  {
   "cell_type": "markdown",
   "id": "2f719953",
   "metadata": {},
   "source": [
    "### Step 4:Feature Engineering"
   ]
  },
  {
   "cell_type": "code",
   "execution_count": 10,
   "id": "aab37838",
   "metadata": {},
   "outputs": [
    {
     "data": {
      "text/plain": [
       "dtype('O')"
      ]
     },
     "execution_count": 10,
     "metadata": {},
     "output_type": "execute_result"
    }
   ],
   "source": [
    "df['gender'].dtype"
   ]
  },
  {
   "cell_type": "code",
   "execution_count": 11,
   "id": "35d0acc1",
   "metadata": {},
   "outputs": [
    {
     "data": {
      "text/plain": [
       "Female    2501\n",
       "Male      2500\n",
       "Name: gender, dtype: int64"
      ]
     },
     "execution_count": 11,
     "metadata": {},
     "output_type": "execute_result"
    }
   ],
   "source": [
    "df.gender.value_counts()"
   ]
  },
  {
   "cell_type": "code",
   "execution_count": 12,
   "id": "fae5f01b",
   "metadata": {},
   "outputs": [
    {
     "data": {
      "text/plain": [
       "{'Female': 2501, 'Male': 2500}"
      ]
     },
     "execution_count": 12,
     "metadata": {},
     "output_type": "execute_result"
    }
   ],
   "source": [
    "df.gender.value_counts().to_dict()"
   ]
  },
  {
   "cell_type": "code",
   "execution_count": 13,
   "id": "ae5ec65f",
   "metadata": {},
   "outputs": [],
   "source": [
    "df.gender.replace({'Female': 1, 'Male': 0},inplace=True)"
   ]
  },
  {
   "cell_type": "code",
   "execution_count": 14,
   "id": "7d2d4fcb",
   "metadata": {},
   "outputs": [
    {
     "data": {
      "text/plain": [
       "dtype('int64')"
      ]
     },
     "execution_count": 14,
     "metadata": {},
     "output_type": "execute_result"
    }
   ],
   "source": [
    "df.gender.dtype"
   ]
  },
  {
   "cell_type": "markdown",
   "id": "0067c4da",
   "metadata": {},
   "source": [
    "### Step 5: Feature Selection"
   ]
  },
  {
   "cell_type": "code",
   "execution_count": null,
   "id": "09b87cc5",
   "metadata": {},
   "outputs": [],
   "source": []
  },
  {
   "cell_type": "markdown",
   "id": "7c58a895",
   "metadata": {},
   "source": [
    "### Step 6: Model Training"
   ]
  },
  {
   "cell_type": "code",
   "execution_count": 15,
   "id": "67e8d237",
   "metadata": {},
   "outputs": [],
   "source": [
    "x = df.drop('gender', axis=1)\n",
    "y = df.gender"
   ]
  },
  {
   "cell_type": "code",
   "execution_count": 16,
   "id": "26a62ff7",
   "metadata": {},
   "outputs": [],
   "source": [
    "x_train,x_test,y_train,y_test = train_test_split(x,y,random_state=10,test_size=0.2)"
   ]
  },
  {
   "cell_type": "code",
   "execution_count": 17,
   "id": "d4187a1d",
   "metadata": {},
   "outputs": [
    {
     "data": {
      "text/plain": [
       "((4000, 7), (1001, 7), (4000,), (1001,))"
      ]
     },
     "execution_count": 17,
     "metadata": {},
     "output_type": "execute_result"
    }
   ],
   "source": [
    "x_train.shape,x_test.shape,y_train.shape,y_test.shape"
   ]
  },
  {
   "cell_type": "code",
   "execution_count": 18,
   "id": "e1a876bb",
   "metadata": {},
   "outputs": [
    {
     "data": {
      "text/plain": [
       "1    2009\n",
       "0    1991\n",
       "Name: gender, dtype: int64"
      ]
     },
     "execution_count": 18,
     "metadata": {},
     "output_type": "execute_result"
    }
   ],
   "source": [
    "y_train.value_counts()"
   ]
  },
  {
   "cell_type": "code",
   "execution_count": 19,
   "id": "cb7b6f4c",
   "metadata": {},
   "outputs": [
    {
     "data": {
      "text/plain": [
       "gender\n",
       "1         2009\n",
       "0         1991\n",
       "dtype: int64"
      ]
     },
     "execution_count": 19,
     "metadata": {},
     "output_type": "execute_result"
    }
   ],
   "source": [
    "y_train = pd.DataFrame(y_train)\n",
    "y_train.value_counts()"
   ]
  },
  {
   "cell_type": "code",
   "execution_count": 20,
   "id": "2c22839a",
   "metadata": {},
   "outputs": [
    {
     "data": {
      "text/plain": [
       "gender\n",
       "1         50.225\n",
       "0         49.775\n",
       "dtype: float64"
      ]
     },
     "execution_count": 20,
     "metadata": {},
     "output_type": "execute_result"
    }
   ],
   "source": [
    "y_train.value_counts()/len(y_train)*100"
   ]
  },
  {
   "cell_type": "code",
   "execution_count": 21,
   "id": "4f18b72c",
   "metadata": {},
   "outputs": [],
   "source": [
    "x_train,x_test,y_train,y_test = train_test_split(x,y,random_state=10,test_size=0.2,stratify=y)"
   ]
  },
  {
   "cell_type": "code",
   "execution_count": 22,
   "id": "7fa8a94e",
   "metadata": {},
   "outputs": [
    {
     "data": {
      "text/plain": [
       "((4000, 7), (1001, 7), (4000,), (1001,))"
      ]
     },
     "execution_count": 22,
     "metadata": {},
     "output_type": "execute_result"
    }
   ],
   "source": [
    "x_train.shape,x_test.shape,y_train.shape,y_test.shape"
   ]
  },
  {
   "cell_type": "code",
   "execution_count": 23,
   "id": "d0c43945",
   "metadata": {},
   "outputs": [
    {
     "data": {
      "text/plain": [
       "LogisticRegression()"
      ]
     },
     "execution_count": 23,
     "metadata": {},
     "output_type": "execute_result"
    }
   ],
   "source": [
    "model = LogisticRegression()\n",
    "model.fit(x_train,y_train)"
   ]
  },
  {
   "cell_type": "code",
   "execution_count": 24,
   "id": "47cf99e0",
   "metadata": {},
   "outputs": [
    {
     "data": {
      "text/plain": [
       "array([21.642017])"
      ]
     },
     "execution_count": 24,
     "metadata": {},
     "output_type": "execute_result"
    }
   ],
   "source": [
    "model.intercept_"
   ]
  },
  {
   "cell_type": "code",
   "execution_count": 25,
   "id": "3dc66f96",
   "metadata": {},
   "outputs": [
    {
     "data": {
      "text/plain": [
       "array([[ 0.45404058, -0.70524967, -0.96431575, -3.69576119, -3.54928613,\n",
       "        -3.40246328, -3.62424271]])"
      ]
     },
     "execution_count": 25,
     "metadata": {},
     "output_type": "execute_result"
    }
   ],
   "source": [
    "model.coef_"
   ]
  },
  {
   "cell_type": "code",
   "execution_count": 26,
   "id": "5a1163b4",
   "metadata": {},
   "outputs": [
    {
     "data": {
      "text/plain": [
       "array([[9.22581314e-01, 7.74186864e-02],\n",
       "       [9.99347610e-01, 6.52389650e-04],\n",
       "       [3.80716915e-04, 9.99619283e-01],\n",
       "       [9.98989881e-01, 1.01011907e-03],\n",
       "       [7.84944525e-04, 9.99215055e-01]])"
      ]
     },
     "execution_count": 26,
     "metadata": {},
     "output_type": "execute_result"
    }
   ],
   "source": [
    "model.predict_proba(x_train)[0:5]"
   ]
  },
  {
   "cell_type": "code",
   "execution_count": 27,
   "id": "c4371111",
   "metadata": {},
   "outputs": [
    {
     "data": {
      "text/plain": [
       "array([0, 0, 1, 0, 1], dtype=int64)"
      ]
     },
     "execution_count": 27,
     "metadata": {},
     "output_type": "execute_result"
    }
   ],
   "source": [
    "model.predict(x_train)[0:5]"
   ]
  },
  {
   "cell_type": "code",
   "execution_count": 28,
   "id": "d5ee725c",
   "metadata": {},
   "outputs": [
    {
     "data": {
      "text/plain": [
       "array([[-8.05797621e-02, -2.55852710e+00],\n",
       "       [-6.52602549e-04, -7.33486855e+00],\n",
       "       [-7.87345446e+00, -3.80789406e-04],\n",
       "       [-1.01062959e-03, -6.89768706e+00],\n",
       "       [-7.14989751e+00, -7.85252755e-04]])"
      ]
     },
     "execution_count": 28,
     "metadata": {},
     "output_type": "execute_result"
    }
   ],
   "source": [
    "model.predict_log_proba(x_train)[0:5]"
   ]
  },
  {
   "cell_type": "code",
   "execution_count": 29,
   "id": "50bcd9fd",
   "metadata": {},
   "outputs": [
    {
     "data": {
      "text/plain": [
       "array([0, 0, 0, 1, 1, 1, 1, 1, 0, 1], dtype=int64)"
      ]
     },
     "execution_count": 29,
     "metadata": {},
     "output_type": "execute_result"
    }
   ],
   "source": [
    "y_pred = model.predict(x_test)\n",
    "y_pred[0:10]"
   ]
  },
  {
   "cell_type": "code",
   "execution_count": 30,
   "id": "3d86efa7",
   "metadata": {},
   "outputs": [
    {
     "data": {
      "text/plain": [
       "array([0, 0, 0, 1, 1, 1, 1, 1, 0, 1], dtype=int64)"
      ]
     },
     "execution_count": 30,
     "metadata": {},
     "output_type": "execute_result"
    }
   ],
   "source": [
    "np.array(y_test[0:10])"
   ]
  },
  {
   "cell_type": "markdown",
   "id": "ee63c6b6",
   "metadata": {},
   "source": [
    "### Step 7:Model Evaluation"
   ]
  },
  {
   "cell_type": "code",
   "execution_count": 31,
   "id": "181c89de",
   "metadata": {},
   "outputs": [
    {
     "data": {
      "text/plain": [
       "array([[481,  19],\n",
       "       [ 21, 480]], dtype=int64)"
      ]
     },
     "execution_count": 31,
     "metadata": {},
     "output_type": "execute_result"
    }
   ],
   "source": [
    "### Test Data Evaluation\n",
    "\n",
    "y_pred = model.predict(x_test)\n",
    "confusion_matrix(y_test,y_pred)"
   ]
  },
  {
   "cell_type": "code",
   "execution_count": 32,
   "id": "6cef034d",
   "metadata": {},
   "outputs": [
    {
     "data": {
      "text/plain": [
       "0.9600399600399601"
      ]
     },
     "execution_count": 32,
     "metadata": {},
     "output_type": "execute_result"
    }
   ],
   "source": [
    "accuracy_score(y_test,y_pred)"
   ]
  },
  {
   "cell_type": "code",
   "execution_count": 33,
   "id": "ccf56864",
   "metadata": {},
   "outputs": [],
   "source": [
    "from sklearn.metrics import precision_score,recall_score,f1_score,classification_report"
   ]
  },
  {
   "cell_type": "code",
   "execution_count": 34,
   "id": "48440cd9",
   "metadata": {},
   "outputs": [
    {
     "data": {
      "text/plain": [
       "0.9619238476953907"
      ]
     },
     "execution_count": 34,
     "metadata": {},
     "output_type": "execute_result"
    }
   ],
   "source": [
    "precision_score(y_test,y_pred)"
   ]
  },
  {
   "cell_type": "code",
   "execution_count": 35,
   "id": "2f7aaf43",
   "metadata": {},
   "outputs": [
    {
     "data": {
      "text/plain": [
       "0.9580838323353293"
      ]
     },
     "execution_count": 35,
     "metadata": {},
     "output_type": "execute_result"
    }
   ],
   "source": [
    "recall_score(y_test,y_pred)"
   ]
  },
  {
   "cell_type": "code",
   "execution_count": 36,
   "id": "9c5aa11b",
   "metadata": {},
   "outputs": [
    {
     "data": {
      "text/plain": [
       "0.96"
      ]
     },
     "execution_count": 36,
     "metadata": {},
     "output_type": "execute_result"
    }
   ],
   "source": [
    "f1_score(y_test,y_pred)"
   ]
  },
  {
   "cell_type": "code",
   "execution_count": 37,
   "id": "369ba944",
   "metadata": {},
   "outputs": [],
   "source": [
    "report = classification_report(y_test,y_pred)"
   ]
  },
  {
   "cell_type": "code",
   "execution_count": 38,
   "id": "025adc9c",
   "metadata": {},
   "outputs": [
    {
     "name": "stdout",
     "output_type": "stream",
     "text": [
      "              precision    recall  f1-score   support\n",
      "\n",
      "           0       0.96      0.96      0.96       500\n",
      "           1       0.96      0.96      0.96       501\n",
      "\n",
      "    accuracy                           0.96      1001\n",
      "   macro avg       0.96      0.96      0.96      1001\n",
      "weighted avg       0.96      0.96      0.96      1001\n",
      "\n"
     ]
    }
   ],
   "source": [
    "print(report)"
   ]
  },
  {
   "cell_type": "code",
   "execution_count": 39,
   "id": "549bc6a5",
   "metadata": {},
   "outputs": [
    {
     "data": {
      "text/plain": [
       "1    501\n",
       "0    500\n",
       "Name: gender, dtype: int64"
      ]
     },
     "execution_count": 39,
     "metadata": {},
     "output_type": "execute_result"
    }
   ],
   "source": [
    "y_test.value_counts()"
   ]
  },
  {
   "cell_type": "code",
   "execution_count": 40,
   "id": "13debc6a",
   "metadata": {},
   "outputs": [],
   "source": [
    "y_pred_train = model.predict(x_train)"
   ]
  },
  {
   "cell_type": "code",
   "execution_count": 41,
   "id": "3e804cf6",
   "metadata": {},
   "outputs": [
    {
     "name": "stdout",
     "output_type": "stream",
     "text": [
      "              precision    recall  f1-score   support\n",
      "\n",
      "           0       0.97      0.97      0.97      2000\n",
      "           1       0.97      0.97      0.97      2000\n",
      "\n",
      "    accuracy                           0.97      4000\n",
      "   macro avg       0.97      0.97      0.97      4000\n",
      "weighted avg       0.97      0.97      0.97      4000\n",
      "\n"
     ]
    }
   ],
   "source": [
    "print(classification_report(y_train,y_pred_train))"
   ]
  },
  {
   "cell_type": "code",
   "execution_count": 42,
   "id": "c43ab969",
   "metadata": {},
   "outputs": [
    {
     "data": {
      "text/plain": [
       "0    2000\n",
       "1    2000\n",
       "Name: gender, dtype: int64"
      ]
     },
     "execution_count": 42,
     "metadata": {},
     "output_type": "execute_result"
    }
   ],
   "source": [
    "y_train.value_counts()"
   ]
  },
  {
   "cell_type": "markdown",
   "id": "a14c5d5e",
   "metadata": {},
   "source": [
    "### Model Evaluation"
   ]
  },
  {
   "cell_type": "code",
   "execution_count": 43,
   "id": "3cb3376e",
   "metadata": {},
   "outputs": [],
   "source": [
    "# Training Data Model Evaluation\n",
    "\n",
    "def model_eval(model,x,y):\n",
    "    y_pred = model.predict(x)\n",
    "    \n",
    "    con_mat = confusion_matrix(y,y_pred)\n",
    "    print(f\"Confusion_Matrix =\\n {con_mat}\")\n",
    "    print('*'*50)\n",
    "    acc_score = accuracy_score(y,y_pred)\n",
    "    print(f\"Accuracy_Score = {acc_score}\")\n",
    "    \n",
    "    precision_val = precision_score(y,y_pred)\n",
    "    print(f\"Precision_score = {precision_val}\")\n",
    "    \n",
    "    recall_val = recall_score(y,y_pred)\n",
    "    print(f\"recall_Score = {recall_val}\")\n",
    "    \n",
    "    f1_val = f1_score(y,y_pred)\n",
    "    print(f\"f1_Score = {f1_val}\")\n",
    "    print('*'*50)\n",
    "    clas_report = classification_report(y,y_pred)\n",
    "    print(f\"Classification_Report =\\n {clas_report}\")\n",
    "    \n",
    "    return \"Success\"\n"
   ]
  },
  {
   "cell_type": "code",
   "execution_count": 44,
   "id": "be1c34b6",
   "metadata": {},
   "outputs": [
    {
     "name": "stdout",
     "output_type": "stream",
     "text": [
      "Confusion_Matrix =\n",
      " [[481  19]\n",
      " [ 21 480]]\n",
      "**************************************************\n",
      "Accuracy_Score = 0.9600399600399601\n",
      "Precision_score = 0.9619238476953907\n",
      "recall_Score = 0.9580838323353293\n",
      "f1_Score = 0.96\n",
      "**************************************************\n",
      "Classification_Report =\n",
      "               precision    recall  f1-score   support\n",
      "\n",
      "           0       0.96      0.96      0.96       500\n",
      "           1       0.96      0.96      0.96       501\n",
      "\n",
      "    accuracy                           0.96      1001\n",
      "   macro avg       0.96      0.96      0.96      1001\n",
      "weighted avg       0.96      0.96      0.96      1001\n",
      "\n"
     ]
    },
    {
     "data": {
      "text/plain": [
       "'Success'"
      ]
     },
     "execution_count": 44,
     "metadata": {},
     "output_type": "execute_result"
    }
   ],
   "source": [
    "# Model Eval on Testing\n",
    "model_eval(model,x_test,y_test)"
   ]
  },
  {
   "cell_type": "code",
   "execution_count": 45,
   "id": "b1e04c49",
   "metadata": {},
   "outputs": [
    {
     "name": "stdout",
     "output_type": "stream",
     "text": [
      "Confusion_Matrix =\n",
      " [[1939   61]\n",
      " [  63 1937]]\n",
      "**************************************************\n",
      "Accuracy_Score = 0.969\n",
      "Precision_score = 0.9694694694694694\n",
      "recall_Score = 0.9685\n",
      "f1_Score = 0.968984492246123\n",
      "**************************************************\n",
      "Classification_Report =\n",
      "               precision    recall  f1-score   support\n",
      "\n",
      "           0       0.97      0.97      0.97      2000\n",
      "           1       0.97      0.97      0.97      2000\n",
      "\n",
      "    accuracy                           0.97      4000\n",
      "   macro avg       0.97      0.97      0.97      4000\n",
      "weighted avg       0.97      0.97      0.97      4000\n",
      "\n"
     ]
    },
    {
     "data": {
      "text/plain": [
       "'Success'"
      ]
     },
     "execution_count": 45,
     "metadata": {},
     "output_type": "execute_result"
    }
   ],
   "source": [
    "### Model Eval on Training\n",
    "\n",
    "model_eval(model,x_train,y_train)"
   ]
  },
  {
   "cell_type": "code",
   "execution_count": 46,
   "id": "c1db94fa",
   "metadata": {},
   "outputs": [],
   "source": [
    "from mlxtend.plotting import plot_confusion_matrix"
   ]
  },
  {
   "cell_type": "code",
   "execution_count": 47,
   "id": "608d8afe",
   "metadata": {},
   "outputs": [
    {
     "name": "stdout",
     "output_type": "stream",
     "text": [
      "Confusion Matrix = \n",
      "[[1939   61]\n",
      " [  63 1937]]\n"
     ]
    }
   ],
   "source": [
    "y_pred_train = model.predict(x_train)\n",
    "\n",
    "con_mat = confusion_matrix(y_train,y_pred_train)\n",
    "print(f\"Confusion Matrix = \\n{con_mat}\")\n"
   ]
  },
  {
   "cell_type": "code",
   "execution_count": 48,
   "id": "4467ed3a",
   "metadata": {},
   "outputs": [
    {
     "data": {
      "text/plain": [
       "array([[1939,   61],\n",
       "       [  63, 1937]], dtype=int64)"
      ]
     },
     "execution_count": 48,
     "metadata": {},
     "output_type": "execute_result"
    }
   ],
   "source": [
    "con_mat"
   ]
  },
  {
   "cell_type": "code",
   "execution_count": 49,
   "id": "e5d752a7",
   "metadata": {},
   "outputs": [
    {
     "data": {
      "image/png": "[encoded data removed]",
      "text/plain": [
       "<Figure size 432x288 with 1 Axes>"
      ]
     },
     "metadata": {
      "needs_background": "light"
     },
     "output_type": "display_data"
    }
   ],
   "source": [
    "import matplotlib.pyplot as plt\n",
    "plot_confusion_matrix(con_mat)\n",
    "plt.savefig(\"plot_con.png\")"
   ]
  },
  {
   "cell_type": "code",
   "execution_count": 50,
   "id": "e4c625c5",
   "metadata": {},
   "outputs": [],
   "source": [
    "import matplotlib.pyplot as plt\n",
    "import seaborn as sns"
   ]
  },
  {
   "cell_type": "code",
   "execution_count": 51,
   "id": "28819bf1",
   "metadata": {},
   "outputs": [
    {
     "data": {
      "image/png": "[encoded data removed]",
      "text/plain": [
       "<Figure size 432x288 with 2 Axes>"
      ]
     },
     "metadata": {
      "needs_background": "light"
     },
     "output_type": "display_data"
    }
   ],
   "source": [
    "sns.heatmap(np.around(con_mat),annot=True)\n",
    "plt.xlabel(\"Predicted Values\")\n",
    "plt.ylabel(\"Actual Values\")\n",
    "plt.title(\"Confusion Matrix\")   \n",
    "plt.savefig(\"confusion.png\")"
   ]
  },
  {
   "cell_type": "code",
   "execution_count": 52,
   "id": "695121dd",
   "metadata": {},
   "outputs": [],
   "source": [
    "y_pred_test_prob = model.predict_proba(x_test)"
   ]
  },
  {
   "cell_type": "code",
   "execution_count": 53,
   "id": "54b626fa",
   "metadata": {},
   "outputs": [],
   "source": [
    "class1_prob = y_pred_test_prob[:,1]"
   ]
  },
  {
   "cell_type": "code",
   "execution_count": null,
   "id": "f4907de2",
   "metadata": {},
   "outputs": [],
   "source": []
  },
  {
   "cell_type": "code",
   "execution_count": null,
   "id": "a4d7f8e1",
   "metadata": {},
   "outputs": [],
   "source": []
  },
  {
   "cell_type": "code",
   "execution_count": 54,
   "id": "8b6ccc10",
   "metadata": {},
   "outputs": [],
   "source": [
    "from sklearn.metrics import roc_curve"
   ]
  },
  {
   "cell_type": "code",
   "execution_count": 57,
   "id": "768fafb9",
   "metadata": {},
   "outputs": [],
   "source": [
    "fpr,tpr,thesh=roc_curve(y_test,class1_prob)"
   ]
  },
  {
   "cell_type": "code",
   "execution_count": 58,
   "id": "29bd4f50",
   "metadata": {},
   "outputs": [
    {
     "data": {
      "text/plain": [
       "array([1.99989253e+00, 9.99892531e-01, 9.99863728e-01, 9.99860152e-01,\n",
       "       9.99825959e-01, 9.99822672e-01, 9.99806123e-01, 9.99801036e-01,\n",
       "       9.99799600e-01, 9.99794341e-01, 9.99786501e-01, 9.99784959e-01,\n",
       "       9.99749525e-01, 9.99742953e-01, 9.99731228e-01, 9.99727333e-01,\n",
       "       9.99722184e-01, 9.99718159e-01, 9.99683776e-01, 9.99682406e-01,\n",
       "       9.99659207e-01, 9.99654270e-01, 9.99647742e-01, 9.99642638e-01,\n",
       "       9.99622011e-01, 9.99619283e-01, 9.99597309e-01, 9.99589706e-01,\n",
       "       9.99577732e-01, 9.99569759e-01, 9.99567897e-01, 9.99536030e-01,\n",
       "       9.99535004e-01, 9.99502473e-01, 9.99501043e-01, 9.99495266e-01,\n",
       "       9.99456060e-01, 9.99450559e-01, 9.99429619e-01, 9.99425503e-01,\n",
       "       9.99420135e-01, 9.99416336e-01, 9.99369195e-01, 9.99355440e-01,\n",
       "       9.99340431e-01, 9.99338534e-01, 9.99332354e-01, 9.99330877e-01,\n",
       "       9.99323132e-01, 9.99308373e-01, 9.99295319e-01, 9.99276838e-01,\n",
       "       9.99243866e-01, 9.99238410e-01, 9.99225749e-01, 9.99209392e-01,\n",
       "       9.99157747e-01, 9.99145550e-01, 9.99112996e-01, 9.99102731e-01,\n",
       "       9.99029643e-01, 9.98997681e-01, 9.98846022e-01, 9.98826845e-01,\n",
       "       9.98815772e-01, 9.98807231e-01, 9.98603981e-01, 9.98600896e-01,\n",
       "       9.98547622e-01, 9.98389298e-01, 9.98327980e-01, 9.98180068e-01,\n",
       "       9.98097185e-01, 9.98061315e-01, 9.98051647e-01, 9.97768294e-01,\n",
       "       9.97709857e-01, 9.97610885e-01, 9.97605610e-01, 9.97363855e-01,\n",
       "       9.97300814e-01, 9.94937948e-01, 9.94782835e-01, 9.83264850e-01,\n",
       "       9.82833174e-01, 9.82321176e-01, 9.81859930e-01, 9.77530583e-01,\n",
       "       9.77212338e-01, 9.56551639e-01, 9.56505771e-01, 9.07598197e-01,\n",
       "       8.89365707e-01, 8.29871780e-01, 8.02101194e-01, 7.65075295e-01,\n",
       "       7.50739642e-01, 7.32540663e-01, 7.17133885e-01, 7.14205791e-01,\n",
       "       6.90136134e-01, 6.54297704e-01, 6.41777909e-01, 6.33434182e-01,\n",
       "       6.33178012e-01, 5.95269875e-01, 5.63717027e-01, 5.54133723e-01,\n",
       "       5.52820040e-01, 5.49865208e-01, 5.47399238e-01, 4.85131247e-01,\n",
       "       4.80676406e-01, 4.65915386e-01, 4.28298110e-01, 4.27516779e-01,\n",
       "       4.05215798e-01, 4.01029277e-01, 3.95805764e-01, 3.53429194e-01,\n",
       "       3.35877664e-01, 3.27268620e-01, 2.56989919e-01, 2.50175911e-01,\n",
       "       1.69489728e-01, 1.67627668e-01, 5.43473854e-02, 5.28802777e-02,\n",
       "       1.21781267e-02, 1.21171446e-02, 8.69471872e-03, 8.64535023e-03,\n",
       "       5.35578089e-03, 5.22691583e-03, 3.78694390e-03, 3.72185777e-03,\n",
       "       2.93648392e-03, 2.75764946e-03, 2.05155262e-03, 1.99919129e-03,\n",
       "       1.50852809e-03, 1.47000584e-03, 1.31978433e-03, 1.31033515e-03,\n",
       "       9.40776691e-04, 9.08165186e-04, 8.54932303e-04, 8.46375540e-04,\n",
       "       7.97916203e-04, 7.76401131e-04, 6.47287213e-04, 6.45858766e-04,\n",
       "       6.11974246e-04, 6.10623680e-04, 5.85672231e-04, 5.81475966e-04,\n",
       "       5.62553985e-04, 5.48175166e-04, 5.44247416e-04, 5.40347793e-04,\n",
       "       5.35699616e-04, 5.31861207e-04, 4.90699092e-04, 4.85082909e-04,\n",
       "       4.74042552e-04, 4.70645722e-04, 4.60600512e-04, 4.54023046e-04,\n",
       "       4.39581188e-04, 4.26173148e-04, 3.61704108e-04, 3.60666859e-04,\n",
       "       3.55001301e-04, 3.52457180e-04, 3.29886541e-04, 3.28464306e-04,\n",
       "       3.06104202e-04, 3.05226347e-04, 2.20174513e-04, 2.17653882e-04,\n",
       "       2.00513463e-04, 1.99076260e-04, 1.71652246e-04, 1.70421874e-04,\n",
       "       1.37242727e-04, 1.36939703e-04, 1.27615912e-04, 1.18926872e-04,\n",
       "       1.17565222e-04, 1.15386076e-04, 9.71602040e-05, 9.69456711e-05,\n",
       "       8.57832451e-05, 8.48010396e-05, 3.01966919e-05])"
      ]
     },
     "execution_count": 58,
     "metadata": {},
     "output_type": "execute_result"
    }
   ],
   "source": [
    "thesh"
   ]
  },
  {
   "cell_type": "code",
   "execution_count": 59,
   "id": "2007815b",
   "metadata": {},
   "outputs": [
    {
     "data": {
      "text/plain": [
       "Text(0.5, 1.0, 'ROC CURVE')"
      ]
     },
     "execution_count": 59,
     "metadata": {},
     "output_type": "execute_result"
    },
    {
     "data": {
      "image/png": "[encoded data removed]",
      "text/plain": [
       "<Figure size 432x288 with 1 Axes>"
      ]
     },
     "metadata": {
      "needs_background": "light"
     },
     "output_type": "display_data"
    }
   ],
   "source": [
    "plt.plot(fpr,tpr)\n",
    "plt.xlabel('FPR')\n",
    "plt.ylabel('TPR')\n",
    "plt.title(\"ROC CURVE\")"
   ]
  },
  {
   "cell_type": "code",
   "execution_count": 63,
   "id": "ab1a1626",
   "metadata": {},
   "outputs": [
    {
     "data": {
      "text/plain": [
       "Text(0.5, 1.0, 'ROC CURVE')"
      ]
     },
     "execution_count": 63,
     "metadata": {},
     "output_type": "execute_result"
    },
    {
     "data": {
      "image/png": "[encoded data removed]",
      "text/plain": [
       "<Figure size 432x288 with 1 Axes>"
      ]
     },
     "metadata": {
      "needs_background": "light"
     },
     "output_type": "display_data"
    }
   ],
   "source": [
    "y_train_test_prob = model.predict_proba(x_train)\n",
    "class1_prob1 = y_train_test_prob[:,1]\n",
    "class1_prob1\n",
    "fpr1,tpr1,thesh1 = roc_curve(y_train,class1_prob1)\n",
    "plt.plot(fpr,tpr)\n",
    "plt.plot(fpr1,tpr1)\n",
    "plt.xlabel(\"FPR\")\n",
    "plt.ylabel(\"TPR\")\n",
    "plt.title(\"ROC CURVE\")"
   ]
  },
  {
   "cell_type": "code",
   "execution_count": null,
   "id": "63275215",
   "metadata": {},
   "outputs": [],
   "source": []
  }
 ],
 "metadata": {
  "kernelspec": {
   "display_name": "Python 3 (ipykernel)",
   "language": "python",
   "name": "python3"
  },
  "language_info": {
   "codemirror_mode": {
    "name": "ipython",
    "version": 3
   },
   "file_extension": ".py",
   "mimetype": "text/x-python",
   "name": "python",
   "nbconvert_exporter": "python",
   "pygments_lexer": "ipython3",
   "version": "3.9.12"
  }
 },
 "nbformat": 4,
 "nbformat_minor": 5
}
